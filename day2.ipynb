{
 "cells": [
  {
   "cell_type": "code",
   "execution_count": 15,
   "metadata": {},
   "outputs": [],
   "source": [
    "from utils import get_input\n",
    "import numpy as np\n",
    "import itertools"
   ]
  },
  {
   "cell_type": "code",
   "execution_count": 16,
   "id": "fcdd9368",
   "metadata": {},
   "outputs": [],
   "source": [
    "input = get_input(day=2)"
   ]
  },
  {
   "cell_type": "code",
   "execution_count": 31,
   "id": "410396e6",
   "metadata": {},
   "outputs": [
    {
     "data": {
      "text/plain": [
       "[['forward', '3'], ['down', '4'], ['forward', '3'], ['up', '4'], ['down', '4']]"
      ]
     },
     "execution_count": 31,
     "metadata": {},
     "output_type": "execute_result"
    }
   ],
   "source": [
    "moves = [move.split() for move in input.split('\\n')]\n",
    "moves = moves[:-1]\n",
    "moves[:5]"
   ]
  },
  {
   "cell_type": "code",
   "execution_count": 35,
   "id": "c889909e",
   "metadata": {},
   "outputs": [
    {
     "data": {
      "text/plain": [
       "{'forward': 1939, 'down': 2040, 'up': 931}"
      ]
     },
     "execution_count": 35,
     "metadata": {},
     "output_type": "execute_result"
    }
   ],
   "source": [
    "directions = {\n",
    "    'forward': 0,\n",
    "    'down': 0,\n",
    "    'up': 0\n",
    "}\n",
    "for dir, step in moves:\n",
    "    directions[dir] += int(step)\n",
    "\n",
    "directions"
   ]
  },
  {
   "cell_type": "code",
   "execution_count": 33,
   "id": "a891434a",
   "metadata": {},
   "outputs": [
    {
     "data": {
      "text/plain": [
       "2150351"
      ]
     },
     "execution_count": 33,
     "metadata": {},
     "output_type": "execute_result"
    }
   ],
   "source": [
    "directions['forward'] * (directions['down'] - directions['up'])"
   ]
  },
  {
   "cell_type": "code",
   "execution_count": 37,
   "id": "9ad37cab",
   "metadata": {},
   "outputs": [],
   "source": [
    "directions = {\n",
    "    'forward': 0,\n",
    "    'aim': 0,\n",
    "    'depth': 0\n",
    "}"
   ]
  },
  {
   "cell_type": "code",
   "execution_count": 38,
   "id": "23582171",
   "metadata": {},
   "outputs": [
    {
     "data": {
      "text/plain": [
       "{'forward': 1939, 'aim': 1109, 'depth': 950357}"
      ]
     },
     "execution_count": 38,
     "metadata": {},
     "output_type": "execute_result"
    }
   ],
   "source": [
    "for dir, step in moves:\n",
    "    step = int(step)\n",
    "    if dir == 'down':\n",
    "        directions['aim'] += step\n",
    "    elif dir == 'up':\n",
    "        directions['aim'] -= step\n",
    "    elif dir == 'forward':\n",
    "        directions[dir] += step\n",
    "        directions['depth'] += directions['aim'] * step\n",
    "\n",
    "directions"
   ]
  },
  {
   "cell_type": "code",
   "execution_count": 39,
   "id": "37c800d7",
   "metadata": {},
   "outputs": [
    {
     "data": {
      "text/plain": [
       "1842742223"
      ]
     },
     "execution_count": 39,
     "metadata": {},
     "output_type": "execute_result"
    }
   ],
   "source": [
    "directions['forward'] * directions['depth']"
   ]
  },
  {
   "cell_type": "code",
   "execution_count": 1,
   "id": "f36d235c",
   "metadata": {},
   "outputs": [
    {
     "ename": "NameError",
     "evalue": "name 'get_input' is not defined",
     "output_type": "error",
     "traceback": [
      "\u001b[0;31m---------------------------------------------------------------------------\u001b[0m",
      "\u001b[0;31mNameError\u001b[0m                                 Traceback (most recent call last)",
      "\u001b[0;32m/var/folders/8r/g8cp2y297s95t8r9zj04q7v80000gn/T/ipykernel_34777/2428398015.py\u001b[0m in \u001b[0;36m<module>\u001b[0;34m\u001b[0m\n\u001b[0;32m----> 1\u001b[0;31m \u001b[0mget_input\u001b[0m\u001b[0;34m(\u001b[0m\u001b[0mday\u001b[0m\u001b[0;34m=\u001b[0m\u001b[0;36m3\u001b[0m\u001b[0;34m)\u001b[0m\u001b[0;34m\u001b[0m\u001b[0;34m\u001b[0m\u001b[0m\n\u001b[0m",
      "\u001b[0;31mNameError\u001b[0m: name 'get_input' is not defined"
     ]
    }
   ],
   "source": [
    "get_input(day=3)"
   ]
  },
  {
   "cell_type": "code",
   "execution_count": null,
   "id": "ef265950",
   "metadata": {},
   "outputs": [],
   "source": []
  }
 ],
 "metadata": {
  "interpreter": {
   "hash": "e0579c59723a86cd501b7bde367e1459cf01d1133e12d86a0ba0eca20246e510"
  },
  "kernelspec": {
   "display_name": "Python 3.9.7 64-bit ('aoc': conda)",
   "language": "python",
   "name": "python3"
  },
  "language_info": {
   "codemirror_mode": {
    "name": "ipython",
    "version": 3
   },
   "file_extension": ".py",
   "mimetype": "text/x-python",
   "name": "python",
   "nbconvert_exporter": "python",
   "pygments_lexer": "ipython3",
   "version": "3.9.7"
  }
 },
 "nbformat": 4,
 "nbformat_minor": 5
}
