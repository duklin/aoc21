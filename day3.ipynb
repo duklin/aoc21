{
 "cells": [
  {
   "cell_type": "code",
   "execution_count": 95,
   "metadata": {},
   "outputs": [],
   "source": [
    "from utils import get_input\n",
    "import numpy as np\n",
    "from operator import ge, lt"
   ]
  },
  {
   "cell_type": "code",
   "execution_count": 107,
   "metadata": {},
   "outputs": [
    {
     "data": {
      "text/plain": [
       "array([[0, 0, 0, ..., 0, 0, 1],\n",
       "       [0, 0, 0, ..., 1, 0, 1],\n",
       "       [0, 1, 0, ..., 0, 0, 0],\n",
       "       ...,\n",
       "       [1, 0, 0, ..., 0, 0, 0],\n",
       "       [0, 0, 1, ..., 1, 0, 0],\n",
       "       [1, 1, 0, ..., 0, 0, 1]])"
      ]
     },
     "execution_count": 107,
     "metadata": {},
     "output_type": "execute_result"
    }
   ],
   "source": [
    "input = get_input(day=3)[:-1]\n",
    "input = np.array([list(x) for x in input.split('\\n')], dtype=int)\n",
    "input"
   ]
  },
  {
   "cell_type": "code",
   "execution_count": 5,
   "metadata": {},
   "outputs": [],
   "source": [
    "gamma = np.sum(input, axis=0) > input.shape[0]/2\n",
    "epsilon = ~gamma"
   ]
  },
  {
   "cell_type": "code",
   "execution_count": 6,
   "metadata": {},
   "outputs": [
    {
     "data": {
      "text/plain": [
       "4118544"
      ]
     },
     "execution_count": 6,
     "metadata": {},
     "output_type": "execute_result"
    }
   ],
   "source": [
    "gamma = int(''.join(map(str, gamma.astype(int))), 2)\n",
    "epsilon = int(''.join(map(str, epsilon.astype(int))), 2)\n",
    "gamma * epsilon"
   ]
  },
  {
   "cell_type": "code",
   "execution_count": 122,
   "metadata": {},
   "outputs": [],
   "source": [
    "def get_diagnostic(array, compare, position):\n",
    "    if array.shape[0] == 1:\n",
    "        return array\n",
    "    else:\n",
    "        x = int(compare(array[:, position].sum(), array.shape[0]/2))\n",
    "        array = array[array[:, position] == x, :]\n",
    "        return get_diagnostic(array, compare, position+1)"
   ]
  },
  {
   "cell_type": "code",
   "execution_count": 123,
   "metadata": {},
   "outputs": [],
   "source": [
    "oxygen = get_diagnostic(input, compare=ge, position=0)\n",
    "co2 = get_diagnostic(input, compare=lt, position=0)"
   ]
  },
  {
   "cell_type": "code",
   "execution_count": 124,
   "metadata": {},
   "outputs": [],
   "source": [
    "oxygen = int(''.join(map(str, oxygen[0])), 2)\n",
    "co2 = int(''.join(map(str, co2[0])), 2)"
   ]
  },
  {
   "cell_type": "code",
   "execution_count": 125,
   "metadata": {},
   "outputs": [
    {
     "data": {
      "text/plain": [
       "3832770"
      ]
     },
     "execution_count": 125,
     "metadata": {},
     "output_type": "execute_result"
    }
   ],
   "source": [
    "oxygen * co2"
   ]
  }
 ],
 "metadata": {
  "interpreter": {
   "hash": "e0579c59723a86cd501b7bde367e1459cf01d1133e12d86a0ba0eca20246e510"
  },
  "kernelspec": {
   "display_name": "Python 3.9.7 64-bit ('aoc': conda)",
   "language": "python",
   "name": "python3"
  },
  "language_info": {
   "codemirror_mode": {
    "name": "ipython",
    "version": 3
   },
   "file_extension": ".py",
   "mimetype": "text/x-python",
   "name": "python",
   "nbconvert_exporter": "python",
   "pygments_lexer": "ipython3",
   "version": "3.9.7"
  },
  "orig_nbformat": 4
 },
 "nbformat": 4,
 "nbformat_minor": 2
}
