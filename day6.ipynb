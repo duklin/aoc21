{
 "cells": [
  {
   "cell_type": "code",
   "execution_count": 1,
   "metadata": {},
   "outputs": [],
   "source": [
    "from utils import get_input\n",
    "import numpy as np"
   ]
  },
  {
   "cell_type": "code",
   "execution_count": 97,
   "metadata": {},
   "outputs": [
    {
     "data": {
      "text/plain": [
       "array([3, 4, 1, 1, 5, 1, 3, 1, 1, 3, 5, 1, 1, 5, 3, 2, 4, 2, 2, 2, 1, 1,\n",
       "       1, 1, 5, 1, 1, 1, 1, 1, 3, 1, 1, 5, 4, 1, 1, 1, 4, 1, 1, 1, 1, 2,\n",
       "       3, 2, 5, 1, 5, 1, 2, 1, 1, 1, 4, 1, 1, 1, 1, 3, 1, 1, 3, 1, 1, 1,\n",
       "       1, 1, 1, 2, 3, 4, 2, 1, 3, 1, 1, 2, 1, 1, 2, 1, 5, 2, 1, 1, 1, 1,\n",
       "       1, 1, 4, 1, 1, 1, 1, 5, 1, 4, 1, 1, 1, 3, 3, 1, 3, 1, 3, 1, 4, 1,\n",
       "       1, 1, 1, 1, 4, 5, 1, 1, 3, 2, 2, 5, 5, 4, 3, 1, 2, 1, 1, 1, 4, 1,\n",
       "       3, 4, 1, 1, 1, 1, 2, 1, 1, 3, 2, 1, 1, 1, 1, 1, 4, 1, 1, 1, 4, 4,\n",
       "       5, 2, 1, 1, 1, 1, 1, 2, 4, 2, 1, 1, 1, 2, 1, 1, 2, 1, 5, 1, 5, 2,\n",
       "       5, 5, 1, 1, 3, 1, 4, 1, 1, 1, 1, 1, 1, 1, 4, 1, 1, 4, 1, 1, 1, 1,\n",
       "       1, 2, 1, 2, 1, 1, 1, 5, 1, 1, 3, 5, 1, 1, 5, 5, 3, 5, 3, 4, 1, 1,\n",
       "       1, 3, 1, 1, 3, 1, 1, 1, 1, 1, 1, 5, 1, 3, 1, 5, 1, 1, 4, 1, 3, 1,\n",
       "       1, 1, 2, 1, 1, 1, 2, 1, 5, 1, 1, 1, 1, 4, 1, 3, 2, 3, 4, 1, 3, 5,\n",
       "       3, 4, 1, 4, 4, 4, 1, 3, 2, 4, 1, 4, 1, 1, 2, 1, 3, 1, 5, 5, 1, 5,\n",
       "       1, 1, 1, 5, 2, 1, 2, 3, 1, 4, 3, 3, 4, 3])"
      ]
     },
     "execution_count": 97,
     "metadata": {},
     "output_type": "execute_result"
    }
   ],
   "source": [
    "input = get_input(day=6)\n",
    "input = np.fromstring(input, sep=',', dtype=int)\n",
    "input"
   ]
  },
  {
   "cell_type": "code",
   "execution_count": 85,
   "metadata": {},
   "outputs": [],
   "source": [
    "test_input = np.array([3,4,3,1,2], dtype=int)\n",
    "test_input\n",
    "input = test_input"
   ]
  },
  {
   "cell_type": "code",
   "execution_count": 99,
   "metadata": {},
   "outputs": [
    {
     "data": {
      "text/plain": [
       "1705008653296"
      ]
     },
     "execution_count": 99,
     "metadata": {},
     "output_type": "execute_result"
    }
   ],
   "source": [
    "cache = {}\n",
    "def simulate(init_value, day, end_day):\n",
    "    if day >= end_day:\n",
    "        return 1\n",
    "    else:\n",
    "        if day in cache and init_value == 8:\n",
    "            return cache[day]\n",
    "        else:\n",
    "            new_fishes = (((end_day-day) - (init_value+1)) // 7) + 1\n",
    "            result = 1 + sum(simulate(8, day+(init_value+1)+7*i, end_day) for i in range(new_fishes))\n",
    "            if init_value == 8:\n",
    "                cache[day] = result\n",
    "            return result\n",
    "\n",
    "sum(simulate(v,0,256) for v in input)"
   ]
  }
 ],
 "metadata": {
  "interpreter": {
   "hash": "e0579c59723a86cd501b7bde367e1459cf01d1133e12d86a0ba0eca20246e510"
  },
  "kernelspec": {
   "display_name": "Python 3.9.7 64-bit ('aoc': conda)",
   "language": "python",
   "name": "python3"
  },
  "language_info": {
   "codemirror_mode": {
    "name": "ipython",
    "version": 3
   },
   "file_extension": ".py",
   "mimetype": "text/x-python",
   "name": "python",
   "nbconvert_exporter": "python",
   "pygments_lexer": "ipython3",
   "version": "3.9.7"
  },
  "orig_nbformat": 4
 },
 "nbformat": 4,
 "nbformat_minor": 2
}
