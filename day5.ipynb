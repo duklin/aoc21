{
 "cells": [
  {
   "cell_type": "code",
   "execution_count": 2,
   "metadata": {},
   "outputs": [],
   "source": [
    "import re\n",
    "from utils import get_input\n",
    "import numpy as np"
   ]
  },
  {
   "cell_type": "code",
   "execution_count": 3,
   "metadata": {},
   "outputs": [
    {
     "data": {
      "text/plain": [
       "array([[414, 379, 827, 379],\n",
       "       [683, 947, 183, 947],\n",
       "       [156, 577, 480, 577],\n",
       "       ...,\n",
       "       [ 29, 161, 845, 977],\n",
       "       [105,  30, 105, 693],\n",
       "       [764, 830,  91, 157]])"
      ]
     },
     "execution_count": 3,
     "metadata": {},
     "output_type": "execute_result"
    }
   ],
   "source": [
    "input = get_input(day=5)\n",
    "lines = input.split('\\n')[:-1]\n",
    "lines = [re.split(r'[ \\->,]+', line) for line in lines]\n",
    "lines = np.array(lines, dtype=int)\n",
    "lines"
   ]
  },
  {
   "cell_type": "code",
   "execution_count": 4,
   "metadata": {},
   "outputs": [],
   "source": [
    "max_i = max(lines[:,1].max(), lines[:,3].max())\n",
    "max_j = max(lines[:,0].max(), lines[:,2].max())"
   ]
  },
  {
   "cell_type": "code",
   "execution_count": 7,
   "metadata": {},
   "outputs": [],
   "source": [
    "def count(diagonal: bool):\n",
    "    counter = np.zeros(shape=(max_i+1, max_j+1))\n",
    "    for j1, i1, j2, i2 in lines:\n",
    "        if j1 == j2 or i1 == i2 or diagonal:\n",
    "            step_i = 1 if i1<i2 else -1\n",
    "            step_j = 1 if j1<j2 else -1\n",
    "            i_axis = np.arange(start=i1, stop=i2+step_i, step=step_i)\n",
    "            j_axis = np.arange(start=j1, stop=j2+step_j, step=step_j)\n",
    "            \n",
    "            if len(i_axis) == 1:\n",
    "                i_axis = np.resize(i_axis, new_shape=j_axis.shape)\n",
    "            if len(j_axis) == 1:\n",
    "                j_axis = np.resize(j_axis, new_shape=i_axis.shape)\n",
    "            \n",
    "            for i, j in zip(i_axis, j_axis):\n",
    "                counter[i,j] += 1\n",
    "    return counter\n",
    "\n",
    "counter = count(diagonal=False)\n",
    "part1 = np.count_nonzero(counter>=2)\n",
    "counter = count(diagonal=True)\n",
    "part2 = np.count_nonzero(counter>=2)"
   ]
  },
  {
   "cell_type": "code",
   "execution_count": 8,
   "metadata": {},
   "outputs": [
    {
     "data": {
      "text/plain": [
       "(6461, 18065)"
      ]
     },
     "execution_count": 8,
     "metadata": {},
     "output_type": "execute_result"
    }
   ],
   "source": [
    "part1, part2"
   ]
  },
  {
   "cell_type": "code",
   "execution_count": null,
   "metadata": {},
   "outputs": [],
   "source": []
  }
 ],
 "metadata": {
  "interpreter": {
   "hash": "e0579c59723a86cd501b7bde367e1459cf01d1133e12d86a0ba0eca20246e510"
  },
  "kernelspec": {
   "display_name": "Python 3.9.7 64-bit ('aoc': conda)",
   "language": "python",
   "name": "python3"
  },
  "language_info": {
   "codemirror_mode": {
    "name": "ipython",
    "version": 3
   },
   "file_extension": ".py",
   "mimetype": "text/x-python",
   "name": "python",
   "nbconvert_exporter": "python",
   "pygments_lexer": "ipython3",
   "version": "3.9.7"
  },
  "orig_nbformat": 4
 },
 "nbformat": 4,
 "nbformat_minor": 2
}
