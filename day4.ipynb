{
 "cells": [
  {
   "cell_type": "code",
   "execution_count": 2,
   "metadata": {},
   "outputs": [],
   "source": [
    "from utils import get_input\n",
    "import numpy as np"
   ]
  },
  {
   "cell_type": "code",
   "execution_count": 34,
   "metadata": {},
   "outputs": [
    {
     "data": {
      "text/plain": [
       "(array([28, 82, 77, 88, 95, 55, 62, 21, 99, 14, 30,  9, 97, 92, 94,  3, 60,\n",
       "        22, 18, 86, 78, 71, 61, 43, 79, 33, 65, 81, 26, 49, 47, 51,  0, 89,\n",
       "        57, 75, 42, 35, 80,  1, 46, 83, 39, 53, 40, 36, 54, 70, 76, 38, 50,\n",
       "        23, 67,  2, 20, 87, 37, 66, 84, 24, 98,  4,  7, 12, 44, 10, 29,  5,\n",
       "        48, 59, 32, 41, 90, 17, 56, 85, 96, 93, 27, 74, 45, 25, 15,  6, 69,\n",
       "        16, 19,  8, 31, 13, 64, 63, 34, 73, 58, 91, 11, 68, 72, 52]),\n",
       " array([[31, 88, 71, 23, 61],\n",
       "        [ 4,  9, 14, 93, 51],\n",
       "        [52, 50,  6, 34, 55],\n",
       "        [70, 64, 78, 65, 95],\n",
       "        [12, 22, 41, 60, 57]]))"
      ]
     },
     "execution_count": 34,
     "metadata": {},
     "output_type": "execute_result"
    }
   ],
   "source": [
    "input = get_input(day=4)\n",
    "input = input.split('\\n\\n')\n",
    "drawn_numbers = np.fromstring(input[0], sep=',', dtype=int)\n",
    "boards = [np.fromstring(b, sep='\\n', dtype=int).reshape(5,5) for b in input[1:]]\n",
    "drawn_numbers, boards[0]"
   ]
  },
  {
   "cell_type": "code",
   "execution_count": 43,
   "metadata": {},
   "outputs": [
    {
     "data": {
      "text/plain": [
       "(51034, 5434)"
      ]
     },
     "execution_count": 43,
     "metadata": {},
     "output_type": "execute_result"
    }
   ],
   "source": [
    "def bingo():\n",
    "    won_boards, scores = [], []\n",
    "    masks = [np.zeros((5,5), dtype=int) for _ in range(len(boards))]\n",
    "    for drawn_num in drawn_numbers:\n",
    "        for i, (mask, board) in enumerate(zip(masks, boards)):\n",
    "            mask[board == drawn_num] = 1\n",
    "            if np.any(mask.sum(axis=0) == 5) or np.any(mask.sum(axis=1) == 5):\n",
    "                if i not in won_boards:\n",
    "                    won_boards.append(i)\n",
    "                    scores.append(board[mask==0].sum() * drawn_num)\n",
    "    return scores\n",
    "\n",
    "scores = bingo()\n",
    "scores[0], scores[-1]"
   ]
  }
 ],
 "metadata": {
  "interpreter": {
   "hash": "e0579c59723a86cd501b7bde367e1459cf01d1133e12d86a0ba0eca20246e510"
  },
  "kernelspec": {
   "display_name": "Python 3.9.7 64-bit ('aoc': conda)",
   "language": "python",
   "name": "python3"
  },
  "language_info": {
   "codemirror_mode": {
    "name": "ipython",
    "version": 3
   },
   "file_extension": ".py",
   "mimetype": "text/x-python",
   "name": "python",
   "nbconvert_exporter": "python",
   "pygments_lexer": "ipython3",
   "version": "3.9.7"
  },
  "orig_nbformat": 4
 },
 "nbformat": 4,
 "nbformat_minor": 2
}
